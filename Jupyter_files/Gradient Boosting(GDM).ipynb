{
 "cells": [
  {
   "cell_type": "code",
   "execution_count": 3,
   "id": "b5b523e7",
   "metadata": {},
   "outputs": [],
   "source": [
    "#test regression dataset\n",
    "from sklearn.datasets import make_regression\n",
    "#define the datasets\n",
    "X,y = make_regression(n_samples = 1000,n_features = 10,n_informative = 5,random_state = 1)"
   ]
  },
  {
   "cell_type": "code",
   "execution_count": 4,
   "id": "5a4d6e20",
   "metadata": {},
   "outputs": [
    {
     "name": "stdout",
     "output_type": "stream",
     "text": [
      "(1000, 10) (1000,)\n"
     ]
    }
   ],
   "source": [
    "#summarize the dataset\n",
    "print(X.shape,y.shape)"
   ]
  },
  {
   "cell_type": "code",
   "execution_count": 8,
   "id": "f17752a3",
   "metadata": {},
   "outputs": [
    {
     "name": "stdout",
     "output_type": "stream",
     "text": [
      "Accuracy: 0.916 (0.026)\n",
      "Prediction: 1.000000\n"
     ]
    }
   ],
   "source": [
    "#gradient boosting for classification in scikit-learn\n",
    "from numpy import mean\n",
    "from numpy import std\n",
    "from sklearn.datasets import make_classification\n",
    "from sklearn.ensemble import GradientBoostingClassifier\n",
    "from sklearn.model_selection import cross_val_score\n",
    "from sklearn.model_selection import RepeatedStratifiedKFold\n",
    "from matplotlib import pyplot\n",
    "\n",
    "#define the dataset\n",
    "X,y = make_classification(n_samples = 1000,n_features = 10,n_informative = 5,n_redundant = 5,random_state=1)\n",
    "\n",
    "#evaluate the model\n",
    "model = GradientBoostingClassifier()\n",
    "cv = RepeatedStratifiedKFold(n_splits = 10,n_repeats = 3,random_state = 1)\n",
    "n_scores = cross_val_score(model,X,y,scoring = 'accuracy',cv=cv,n_jobs =-1,error_score ='raise')\n",
    "print('Accuracy: %.3f (%.3f)'%(mean(n_scores),std(n_scores)))\n",
    "\n",
    "#fit the model on the whole dataset\n",
    "model = GradientBoostingClassifier()\n",
    "model.fit(X,y)\n",
    "\n",
    "#make a single prediction\n",
    "row = [[2.56999479, -0.13019997, 3.16075093, -4.35936352, -1.61271951, -1.39352057, -2.48924933, -1.93094078, 3.26130366, 2.05692145]]\n",
    "yhat = model.predict(row)\n",
    "print('Prediction: %f'%yhat[0])"
   ]
  },
  {
   "cell_type": "code",
   "execution_count": 10,
   "id": "8e6397f3",
   "metadata": {},
   "outputs": [
    {
     "name": "stdout",
     "output_type": "stream",
     "text": [
      "MAE: -11.858 (1.132)\n",
      "Prediction: -80.661\n"
     ]
    }
   ],
   "source": [
    "#gradient boosting for regression in scikit-learn\n",
    "from numpy import mean\n",
    "from numpy import std\n",
    "from sklearn.datasets import make_regression\n",
    "from sklearn.ensemble import GradientBoostingRegressor\n",
    "from sklearn.model_selection import cross_val_score\n",
    "from sklearn.model_selection import RepeatedKFold\n",
    "from matplotlib import pyplot\n",
    "\n",
    "#defining the dataset\n",
    "X,y = make_regression(n_samples=1000,n_features= 10,n_informative=5,random_state =1)\n",
    "\n",
    "#evaluate the model\n",
    "model = GradientBoostingRegressor()\n",
    "cv = RepeatedKFold(n_splits = 10,n_repeats =3,random_state=1)\n",
    "n_scores= cross_val_score(model,X,y,scoring ='neg_mean_absolute_error',cv =cv,n_jobs =-1,error_score ='raise')\n",
    "print('MAE: %.3f (%.3f)'%(mean(n_scores),std(n_scores)))\n",
    "\n",
    "#fit the model on the dataset\n",
    "model = GradientBoostingRegressor()\n",
    "model.fit(X,y)\n",
    "\n",
    "#make a single prediction\n",
    "row =[[2.02220122, 0.31563495, 0.82797464, -0.30620401, 0.16003707, -1.44411381, 0.87616892, -0.50446586, 0.23009474, 0.76201118]]\n",
    "yhat= model.predict(row)\n",
    "print('Prediction: %.3f'%yhat[0])"
   ]
  },
  {
   "cell_type": "code",
   "execution_count": null,
   "id": "07ba3e50",
   "metadata": {},
   "outputs": [],
   "source": []
  }
 ],
 "metadata": {
  "kernelspec": {
   "display_name": "Python 3 (ipykernel)",
   "language": "python",
   "name": "python3"
  },
  "language_info": {
   "codemirror_mode": {
    "name": "ipython",
    "version": 3
   },
   "file_extension": ".py",
   "mimetype": "text/x-python",
   "name": "python",
   "nbconvert_exporter": "python",
   "pygments_lexer": "ipython3",
   "version": "3.10.4"
  }
 },
 "nbformat": 4,
 "nbformat_minor": 5
}
